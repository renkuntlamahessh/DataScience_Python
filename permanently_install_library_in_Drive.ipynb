{
  "nbformat": 4,
  "nbformat_minor": 0,
  "metadata": {
    "colab": {
      "name": "permanently_install_library_in_Drive.ipynb",
      "provenance": [],
      "authorship_tag": "ABX9TyP6sa/XSETFCI8lBTq+BrHO",
      "include_colab_link": true
    },
    "kernelspec": {
      "name": "python3",
      "display_name": "Python 3"
    },
    "language_info": {
      "name": "python"
    }
  },
  "cells": [
    {
      "cell_type": "markdown",
      "metadata": {
        "id": "view-in-github",
        "colab_type": "text"
      },
      "source": [
        "<a href=\"https://colab.research.google.com/github/rmahesh6386/DataScience_Python/blob/main/permanently_install_library_in_Drive.ipynb\" target=\"_parent\"><img src=\"https://colab.research.google.com/assets/colab-badge.svg\" alt=\"Open In Colab\"/></a>"
      ]
    },
    {
      "cell_type": "markdown",
      "source": [
        "Mounting Drive and Installing libraries "
      ],
      "metadata": {
        "id": "Pm-8668Vmz44"
      }
    },
    {
      "cell_type": "code",
      "source": [
        "import os, sys \n",
        "#to be able to interact with Google Drive's operating system\n",
        "from google.colab import drive \n",
        "#drive is a module that allows us use Python to interact with google drive\n",
        "drive.mount('/content/gdrive') \n",
        "#mounting google drive allows us to work with its contents\n",
        "nb_path = '/content/notebooks'\n",
        "os.symlink('/content/gdrive/My Drive/Colab Notebooks', nb_path)\n",
        "sys.path.insert(0, nb_path)  # or append(nb_path)\n",
        "#The last three lines are what changes the path of the file."
      ],
      "metadata": {
        "id": "YtixcTp_xgqp"
      },
      "execution_count": null,
      "outputs": []
    },
    {
      "cell_type": "code",
      "source": [
        "#Install the module in the notebook folder permanently\n",
        "#enter the library to install in place of underscores\n",
        "!pip install --target=$nb_path _______"
      ],
      "metadata": {
        "id": "oUOSUV6_xo_q"
      },
      "execution_count": null,
      "outputs": []
    },
    {
      "cell_type": "code",
      "source": [
        "#Import the module to confirm that it has been installed\n",
        "import _________"
      ],
      "metadata": {
        "id": "pAegsm1kyIjJ"
      },
      "execution_count": null,
      "outputs": []
    },
    {
      "cell_type": "markdown",
      "source": [
        "---------------------------------------------------------------------------------------------------------------------------------------------------------------------------------------"
      ],
      "metadata": {
        "id": "blJ_E73HyeG5"
      }
    },
    {
      "cell_type": "markdown",
      "source": [
        "Importing libraries from Drive"
      ],
      "metadata": {
        "id": "sgABMCdXm_Wm"
      }
    },
    {
      "cell_type": "code",
      "execution_count": null,
      "metadata": {
        "id": "UWIUvf2VtfJr"
      },
      "outputs": [],
      "source": [
        "# to skip install part and import library \n",
        "from google.colab import drive\n",
        "drive.mount('/content/gdrive')\n",
        "import sys\n",
        "sys.path.append('/content/gdrive/My Drive/Colab Notebooks')"
      ]
    },
    {
      "cell_type": "code",
      "source": [
        "#import the module\n",
        "import _________"
      ],
      "metadata": {
        "id": "hq6FTAa7yoU6"
      },
      "execution_count": null,
      "outputs": []
    },
    {
      "cell_type": "code",
      "source": [
        ""
      ],
      "metadata": {
        "id": "N6DBOQrx0q4o"
      },
      "execution_count": null,
      "outputs": []
    }
  ]
}