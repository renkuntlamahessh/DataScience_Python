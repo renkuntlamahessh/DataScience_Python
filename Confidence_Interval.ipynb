{
  "cells": [
    {
      "cell_type": "markdown",
      "metadata": {
        "id": "view-in-github",
        "colab_type": "text"
      },
      "source": [
        "<a href=\"https://colab.research.google.com/github/rmahesh6386/DataScience_Python/blob/main/Confidence_Interval.ipynb\" target=\"_parent\"><img src=\"https://colab.research.google.com/assets/colab-badge.svg\" alt=\"Open In Colab\"/></a>"
      ]
    },
    {
      "cell_type": "code",
      "execution_count": 1,
      "metadata": {
        "id": "usD0nvCirx6Y"
      },
      "outputs": [],
      "source": [
        "from scipy import stats\n",
        "import pandas as pd\n",
        "import numpy as np\n"
      ]
    },
    {
      "cell_type": "code",
      "execution_count": 2,
      "metadata": {
        "id": "RRBUo-bgrx6g"
      },
      "outputs": [],
      "source": [
        "glaxo_df=pd.read_csv('glaxo_df.csv')\n"
      ]
    },
    {
      "cell_type": "code",
      "execution_count": 4,
      "metadata": {
        "id": "I94Hxezerx6k"
      },
      "outputs": [],
      "source": [
        "beml_df=pd.read_csv('beml_df.csv')\n"
      ]
    },
    {
      "cell_type": "code",
      "source": [
        "loc_g = glaxo_df.gain.mean()\n",
        "loc_b= beml_df.gain.mean()"
      ],
      "metadata": {
        "id": "qDlGLqgzscF_"
      },
      "execution_count": 7,
      "outputs": []
    },
    {
      "cell_type": "code",
      "source": [
        "scale_g = glaxo_df.gain.std()\n",
        "scale_b = beml_df.gain.std()"
      ],
      "metadata": {
        "id": "K7oEteFtsnI1"
      },
      "execution_count": 8,
      "outputs": []
    },
    {
      "cell_type": "code",
      "execution_count": 20,
      "metadata": {
        "colab": {
          "base_uri": "https://localhost:8080/"
        },
        "id": "M2odKERjrx6h",
        "outputId": "acba4c1c-e096-42e0-8754-44a7616e493c"
      },
      "outputs": [
        {
          "output_type": "stream",
          "name": "stdout",
          "text": [
            "Gain at 95% confidence interval is: [-0.0002  0.001 ]\n"
          ]
        }
      ],
      "source": [
        "glaxo_df_ci = stats.norm.interval(0.95,loc_g,scale_g/np.sqrt(len(glaxo_df.gain)))\n",
        "print( 'Gain at 95% confidence interval is:', np.round(glaxo_df_ci, 4))"
      ]
    },
    {
      "cell_type": "code",
      "execution_count": 21,
      "metadata": {
        "colab": {
          "base_uri": "https://localhost:8080/"
        },
        "id": "aEVmeufCrx6l",
        "outputId": "500b3a30-6ffa-4eb1-cffe-8408ec34d91e"
      },
      "outputs": [
        {
          "output_type": "stream",
          "name": "stdout",
          "text": [
            "Gain at 95% confidence interval is: [-0.001   0.0015]\n"
          ]
        }
      ],
      "source": [
        "beml_df_ci = stats.norm.interval(0.95,loc_b,scale_b/np.sqrt(len(glaxo_df.gain)))\n",
        "print( 'Gain at 95% confidence interval is:', np.round(beml_df_ci, 4))"
      ]
    },
    {
      "cell_type": "code",
      "execution_count": 12,
      "metadata": {
        "id": "vw-aUUhbrx6o"
      },
      "outputs": [],
      "source": [
        "mba_df=pd.read_csv('mba.csv')"
      ]
    },
    {
      "cell_type": "markdown",
      "source": [
        "In class excercise to find out confidence interval of gmat scores of mba students at 90%"
      ],
      "metadata": {
        "id": "O5eh6p7d1kx2"
      }
    },
    {
      "cell_type": "code",
      "source": [
        "loc_gmat = mba_df.gmat.mean()\n",
        "scale_gmat = mba_df.gmat.std()"
      ],
      "metadata": {
        "id": "yYEW2KJWxevC"
      },
      "execution_count": 37,
      "outputs": []
    },
    {
      "cell_type": "code",
      "execution_count": 38,
      "metadata": {
        "colab": {
          "base_uri": "https://localhost:8080/"
        },
        "id": "WUrHgK4lrx6q",
        "outputId": "2b4df526-1a38-4886-e26a-88221a932441"
      },
      "outputs": [
        {
          "output_type": "stream",
          "name": "stdout",
          "text": [
            "90% confidence interval is: [709.42852012 712.90006979]\n"
          ]
        }
      ],
      "source": [
        "gmat_ci = stats.norm.interval(0.90,loc_gmat,scale_gmat/np.sqrt(len(mba_df.gmat)))\n",
        "print( '90% confidence interval is:', np.round(gmat_ci, 8))"
      ]
    },
    {
      "cell_type": "markdown",
      "source": [
        "In class excercise to find out confidence interval of work experience of mba students at 95%"
      ],
      "metadata": {
        "id": "Do0M0NYDJGDM"
      }
    },
    {
      "cell_type": "code",
      "source": [
        "loc_wexp = mba_df.workex.mean()\n",
        "scale_wexp = mba_df.workex.std()"
      ],
      "metadata": {
        "id": "DjtZh762Hi2X"
      },
      "execution_count": 39,
      "outputs": []
    },
    {
      "cell_type": "code",
      "execution_count": 42,
      "metadata": {
        "colab": {
          "base_uri": "https://localhost:8080/"
        },
        "id": "qozhsBHUrx6r",
        "outputId": "881b3e86-34b1-4db3-cdde-5152a03248f2"
      },
      "outputs": [
        {
          "output_type": "stream",
          "name": "stdout",
          "text": [
            "90% confidence interval is: [55.88170139 59.1221796 ]\n"
          ]
        }
      ],
      "source": [
        "wexp_ci = stats.norm.interval(0.90,loc_wexp,scale_wexp/np.sqrt(len(mba_df.workex)))\n",
        "print( '90% confidence interval is:', np.round(wexp_ci, 8))"
      ]
    }
  ],
  "metadata": {
    "kernelspec": {
      "display_name": "Python 3",
      "language": "python",
      "name": "python3"
    },
    "language_info": {
      "codemirror_mode": {
        "name": "ipython",
        "version": 3
      },
      "file_extension": ".py",
      "mimetype": "text/x-python",
      "name": "python",
      "nbconvert_exporter": "python",
      "pygments_lexer": "ipython3",
      "version": "3.8.8"
    },
    "colab": {
      "name": "Confidence Interval.ipynb",
      "provenance": [],
      "include_colab_link": true
    }
  },
  "nbformat": 4,
  "nbformat_minor": 0
}